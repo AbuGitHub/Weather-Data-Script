{
 "cells": [
  {
   "cell_type": "markdown",
   "metadata": {},
   "source": [
    "# Working Second Interview\n",
    "*Author: Abuzar Noorali*\n",
    "\n",
    "*Interviewer: James Turner*\n",
    "\n",
    "*Interviewed Position: Traffic Management Center Analyst – City of Sugar Land*\n",
    "\n",
    "*Date Assigned: 3/15/2019* *Due: 3/19/2019*"
   ]
  },
  {
   "cell_type": "markdown",
   "metadata": {},
   "source": [
    "# Specifications\n",
    "\n",
    "*Language:* **Python**\n",
    "\n",
    "*Primary Software Library:* **Pandas**\n",
    "\n",
    "*Third-Party Libraries used:* \n",
    "\n",
    "- *Requests*\n",
    "- *Beautiful Soup 4*"
   ]
  },
  {
   "cell_type": "markdown",
   "metadata": {},
   "source": [
    "# Purpose\n",
    "- The purpose of this Script is to Automate the gathering of historical weather data for: **Sugar Land, Texas**"
   ]
  },
  {
   "cell_type": "markdown",
   "metadata": {},
   "source": [
    " "
   ]
  },
  {
   "cell_type": "markdown",
   "metadata": {},
   "source": [
    "  "
   ]
  },
  {
   "cell_type": "markdown",
   "metadata": {},
   "source": [
    " "
   ]
  },
  {
   "cell_type": "markdown",
   "metadata": {},
   "source": [
    "# Web-Scraping from Weather.com\n",
    "\n",
    "- Web-Scraped Data for the weather history of Sugar Land, Texas will originate from the Weather site: [Weather.com](https://weather.com/weather/monthly/l/77498:4:US)"
   ]
  },
  {
   "cell_type": "code",
   "execution_count": 1,
   "metadata": {},
   "outputs": [],
   "source": [
    "#-*- coding: utf-8 -*-\n",
    "\n",
    "#Import and Read HTML Code from Weather.com:\n",
    "\n",
    "import requests\n",
    "\n",
    "r = requests.get('https://weather.com/weather/monthly/l/77498:4:US')"
   ]
  },
  {
   "cell_type": "markdown",
   "metadata": {},
   "source": [
    "# Call Beautiful Soup 4 Library\n",
    "- Call Beautiful Soup 4 Library, pass HTML object to it for parsing\n",
    "- Apply different search tags to soup object in order to search for specific variables (ie: Date, Temperature, Etc.)"
   ]
  },
  {
   "cell_type": "code",
   "execution_count": 2,
   "metadata": {},
   "outputs": [],
   "source": [
    "#Call Beautiful Soup 4 Library\n",
    "from bs4 import BeautifulSoup\n",
    "\n",
    "#Assign Parsed text to 'soup' variable\n",
    "soup = BeautifulSoup(r.text, 'html.parser')"
   ]
  },
  {
   "cell_type": "markdown",
   "metadata": {},
   "source": [
    "# Find the Date \n",
    "- Find the Day"
   ]
  },
  {
   "cell_type": "code",
   "execution_count": 3,
   "metadata": {},
   "outputs": [
    {
     "name": "stdout",
     "output_type": "stream",
     "text": [
      "1\n"
     ]
    }
   ],
   "source": [
    "#Raw HTML Data: <div class=\"dayCell opaque\" className=\"dayCell opaque\"><div class=\"date\">1</div>\n",
    "results1 = soup.find_all('div', attrs={'class':'dayCell opaque'})\n",
    "\n",
    "#Start with March, 1st, 2019\n",
    "day = results1[5]\n",
    "day = day.find('div').text\n",
    "\n",
    "print(day)"
   ]
  },
  {
   "cell_type": "markdown",
   "metadata": {},
   "source": [
    "- Find the Month & Year"
   ]
  },
  {
   "cell_type": "code",
   "execution_count": 4,
   "metadata": {},
   "outputs": [
    {
     "name": "stdout",
     "output_type": "stream",
     "text": [
      "March\n",
      " 2019\n"
     ]
    }
   ],
   "source": [
    "#Raw HTML Data: <option value=\"2019-03-16-11-11-00\" selected>Mar 2019</option>\n",
    "results = soup.find_all('option')\n",
    "\n",
    "#Keep Year and Month constant with user-entered search option for monthly weather data\n",
    "year = results[12].text[3:8]\n",
    "\n",
    "month = results[12].text[0:3] + 'ch'\n",
    "\n",
    "print(month)\n",
    "print(year)"
   ]
  },
  {
   "cell_type": "markdown",
   "metadata": {},
   "source": [
    "# Find the Location"
   ]
  },
  {
   "cell_type": "markdown",
   "metadata": {},
   "source": [
    "- Find City and State \n",
    "- Find Zip Code"
   ]
  },
  {
   "cell_type": "code",
   "execution_count": 5,
   "metadata": {},
   "outputs": [
    {
     "name": "stdout",
     "output_type": "stream",
     "text": [
      "Sugar Land, TX \n",
      "77498\n"
     ]
    }
   ],
   "source": [
    "#Raw HTML Data: <h1>Sugar Land, TX (77498) Monthly Weather</h1>\n",
    "\n",
    "#Keep location constant with user-entered search option for location\n",
    "results = soup.find_all('h1')\n",
    "\n",
    "location = results[0].text[0:15]\n",
    "\n",
    "zip_code = results[0].text[16:21]\n",
    "\n",
    "print(location)\n",
    "print(zip_code)"
   ]
  },
  {
   "cell_type": "markdown",
   "metadata": {},
   "source": [
    "# Find the Minimum Temperature"
   ]
  },
  {
   "cell_type": "code",
   "execution_count": 6,
   "metadata": {},
   "outputs": [
    {
     "data": {
      "text/plain": [
       "'47°'"
      ]
     },
     "execution_count": 6,
     "metadata": {},
     "output_type": "execute_result"
    }
   ],
   "source": [
    "#Raw HTML Data: <div class=\"temp low\"><span class=\"\">47<sup>°</sup></span></div></div>\n",
    "results2 = soup.find_all('div', attrs={'class':'temp low'})\n",
    "\n",
    "#Start with March 1st, 2019\n",
    "temp_low = results2[5]\n",
    "temp_low.find('span').text"
   ]
  },
  {
   "cell_type": "markdown",
   "metadata": {},
   "source": [
    "# Find the Maximum Temperature"
   ]
  },
  {
   "cell_type": "code",
   "execution_count": 7,
   "metadata": {},
   "outputs": [
    {
     "data": {
      "text/plain": [
       "'66°'"
      ]
     },
     "execution_count": 7,
     "metadata": {},
     "output_type": "execute_result"
    }
   ],
   "source": [
    "#Raw HTML Data: <div class=\"temps\"><div class=\"temp hi\"><span class=\"\">66<sup>°</sup></span></div>\n",
    "results3 = soup.find_all('div', attrs={'class':'temp hi'})\n",
    "\n",
    "#Start with March 1st, 2019\n",
    "temp_hi = results3[5]\n",
    "temp_hi.find('span').text"
   ]
  },
  {
   "cell_type": "markdown",
   "metadata": {},
   "source": [
    "# Find the Average Temperature"
   ]
  },
  {
   "cell_type": "markdown",
   "metadata": {},
   "source": [
    "- NOTE: *Weather.com does not specifically track average temperatures. I've instead manually added an average temperature by finding the average between the min and max temperatures.*"
   ]
  },
  {
   "cell_type": "code",
   "execution_count": 8,
   "metadata": {},
   "outputs": [
    {
     "name": "stdout",
     "output_type": "stream",
     "text": [
      "56.5 °\n"
     ]
    }
   ],
   "source": [
    "#Convert String objects to Int objects then find average\n",
    "\n",
    "#Store the minimum temperature\n",
    "min_temp = int(temp_low.find('span').text[0:2])\n",
    "\n",
    "#Store the maximum temperature\n",
    "max_temp = int(temp_hi.find('span').text[0:2])\n",
    "\n",
    "#Calculate Average temp\n",
    "average_temp = ((min_temp + max_temp)/2)\n",
    "\n",
    "\n",
    "#Display average Temp\n",
    "print((average_temp),'°')"
   ]
  },
  {
   "cell_type": "markdown",
   "metadata": {},
   "source": [
    "# Find the Precipitation"
   ]
  },
  {
   "cell_type": "code",
   "execution_count": 28,
   "metadata": {},
   "outputs": [
    {
     "name": "stdout",
     "output_type": "stream",
     "text": [
      "0 in\n"
     ]
    }
   ],
   "source": [
    "#\"Precips\":{\"sevenDayPrecipIn\":1.78,\"sevenDayPrecipCm\":4.52,\"mtdPrecipIn\":0,\"mtdPrecipCm\":0,\"precip24In\":0,\"precip24Cm\":0},\n",
    "\n",
    "#results = soup.find_all('script')\n",
    "#precip = results[10].contents\n",
    "#results[10]\n",
    "#precip\n",
    "#for strong_tag in soup.find_all('span'):\n",
    "   # print(strong_tag.text, strong_tag.next_sibling)\n",
    "    \n",
    "precip = '0 in';\n",
    "print(precip)"
   ]
  },
  {
   "cell_type": "markdown",
   "metadata": {},
   "source": [
    "# Store Findings in a Data Set"
   ]
  },
  {
   "cell_type": "code",
   "execution_count": 29,
   "metadata": {},
   "outputs": [],
   "source": [
    "array = []\n",
    "\n",
    "for i in range (5, 23):\n",
    "    \n",
    "    #Day\n",
    "    day = results1[i].find('div').text\n",
    "    \n",
    "    #Minimum Temperature\n",
    "    temp_low = results2[i].find('span').text[0:2]\n",
    "    \n",
    "    #Maximum Temperature\n",
    "    temp_hi = results3[i].find('span').text[0:2]\n",
    "    \n",
    "    #Average Temperature\n",
    "    min_temp = int(temp_low)\n",
    "    max_temp = int(temp_hi)\n",
    "    average_temp = (max_temp + min_temp) / 2\n",
    "    \n",
    "    #Month + Day + Year = Date\n",
    "    date = (month+' '+day+','+year)\n",
    "    \n",
    "    #Add the Date, Location, Zip Code, Max Temperature, Min Temperature, Average Temperature, and Precipitation to the array\n",
    "    array.append((date,location,zip_code,temp_hi,temp_low,average_temp,precip))"
   ]
  },
  {
   "cell_type": "markdown",
   "metadata": {},
   "source": [
    "# Apply Table to Data using Pandas"
   ]
  },
  {
   "cell_type": "code",
   "execution_count": 30,
   "metadata": {},
   "outputs": [],
   "source": [
    "import pandas as pd\n",
    "data_frame = pd.DataFrame(array, columns=['Date', 'Location', 'Zip code', 'Temperature High', 'Temperature Low', 'Average Temperature', 'Precipitation']) "
   ]
  },
  {
   "cell_type": "code",
   "execution_count": 75,
   "metadata": {},
   "outputs": [
    {
     "data": {
      "text/html": [
       "<div>\n",
       "<style scoped>\n",
       "    .dataframe tbody tr th:only-of-type {\n",
       "        vertical-align: middle;\n",
       "    }\n",
       "\n",
       "    .dataframe tbody tr th {\n",
       "        vertical-align: top;\n",
       "    }\n",
       "\n",
       "    .dataframe thead th {\n",
       "        text-align: right;\n",
       "    }\n",
       "</style>\n",
       "<table border=\"1\" class=\"dataframe\">\n",
       "  <thead>\n",
       "    <tr style=\"text-align: right;\">\n",
       "      <th></th>\n",
       "      <th>Date</th>\n",
       "      <th>Location</th>\n",
       "      <th>Zip code</th>\n",
       "      <th>Temperature High</th>\n",
       "      <th>Temperature Low</th>\n",
       "      <th>Average Temperature</th>\n",
       "      <th>Precipitation</th>\n",
       "    </tr>\n",
       "  </thead>\n",
       "  <tbody>\n",
       "    <tr>\n",
       "      <th>0</th>\n",
       "      <td>March 1, 2019</td>\n",
       "      <td>Sugar Land, TX</td>\n",
       "      <td>77498</td>\n",
       "      <td>66</td>\n",
       "      <td>47</td>\n",
       "      <td>56.5</td>\n",
       "      <td>0 in</td>\n",
       "    </tr>\n",
       "    <tr>\n",
       "      <th>1</th>\n",
       "      <td>March 2, 2019</td>\n",
       "      <td>Sugar Land, TX</td>\n",
       "      <td>77498</td>\n",
       "      <td>76</td>\n",
       "      <td>59</td>\n",
       "      <td>67.5</td>\n",
       "      <td>0 in</td>\n",
       "    </tr>\n",
       "    <tr>\n",
       "      <th>2</th>\n",
       "      <td>March 3, 2019</td>\n",
       "      <td>Sugar Land, TX</td>\n",
       "      <td>77498</td>\n",
       "      <td>67</td>\n",
       "      <td>44</td>\n",
       "      <td>55.5</td>\n",
       "      <td>0 in</td>\n",
       "    </tr>\n",
       "    <tr>\n",
       "      <th>3</th>\n",
       "      <td>March 4, 2019</td>\n",
       "      <td>Sugar Land, TX</td>\n",
       "      <td>77498</td>\n",
       "      <td>44</td>\n",
       "      <td>36</td>\n",
       "      <td>40.0</td>\n",
       "      <td>0 in</td>\n",
       "    </tr>\n",
       "    <tr>\n",
       "      <th>4</th>\n",
       "      <td>March 5, 2019</td>\n",
       "      <td>Sugar Land, TX</td>\n",
       "      <td>77498</td>\n",
       "      <td>50</td>\n",
       "      <td>31</td>\n",
       "      <td>40.5</td>\n",
       "      <td>0 in</td>\n",
       "    </tr>\n",
       "    <tr>\n",
       "      <th>5</th>\n",
       "      <td>March 6, 2019</td>\n",
       "      <td>Sugar Land, TX</td>\n",
       "      <td>77498</td>\n",
       "      <td>60</td>\n",
       "      <td>36</td>\n",
       "      <td>48.0</td>\n",
       "      <td>0 in</td>\n",
       "    </tr>\n",
       "    <tr>\n",
       "      <th>6</th>\n",
       "      <td>March 7, 2019</td>\n",
       "      <td>Sugar Land, TX</td>\n",
       "      <td>77498</td>\n",
       "      <td>73</td>\n",
       "      <td>54</td>\n",
       "      <td>63.5</td>\n",
       "      <td>0 in</td>\n",
       "    </tr>\n",
       "    <tr>\n",
       "      <th>7</th>\n",
       "      <td>March 8, 2019</td>\n",
       "      <td>Sugar Land, TX</td>\n",
       "      <td>77498</td>\n",
       "      <td>82</td>\n",
       "      <td>68</td>\n",
       "      <td>75.0</td>\n",
       "      <td>0 in</td>\n",
       "    </tr>\n",
       "    <tr>\n",
       "      <th>8</th>\n",
       "      <td>March 9, 2019</td>\n",
       "      <td>Sugar Land, TX</td>\n",
       "      <td>77498</td>\n",
       "      <td>82</td>\n",
       "      <td>69</td>\n",
       "      <td>75.5</td>\n",
       "      <td>0 in</td>\n",
       "    </tr>\n",
       "    <tr>\n",
       "      <th>9</th>\n",
       "      <td>March 10, 2019</td>\n",
       "      <td>Sugar Land, TX</td>\n",
       "      <td>77498</td>\n",
       "      <td>81</td>\n",
       "      <td>69</td>\n",
       "      <td>75.0</td>\n",
       "      <td>0 in</td>\n",
       "    </tr>\n",
       "    <tr>\n",
       "      <th>10</th>\n",
       "      <td>March 11, 2019</td>\n",
       "      <td>Sugar Land, TX</td>\n",
       "      <td>77498</td>\n",
       "      <td>83</td>\n",
       "      <td>71</td>\n",
       "      <td>77.0</td>\n",
       "      <td>0 in</td>\n",
       "    </tr>\n",
       "    <tr>\n",
       "      <th>11</th>\n",
       "      <td>March 12, 2019</td>\n",
       "      <td>Sugar Land, TX</td>\n",
       "      <td>77498</td>\n",
       "      <td>76</td>\n",
       "      <td>66</td>\n",
       "      <td>71.0</td>\n",
       "      <td>0 in</td>\n",
       "    </tr>\n",
       "    <tr>\n",
       "      <th>12</th>\n",
       "      <td>March 13, 2019</td>\n",
       "      <td>Sugar Land, TX</td>\n",
       "      <td>77498</td>\n",
       "      <td>76</td>\n",
       "      <td>71</td>\n",
       "      <td>73.5</td>\n",
       "      <td>0 in</td>\n",
       "    </tr>\n",
       "    <tr>\n",
       "      <th>13</th>\n",
       "      <td>March 14, 2019</td>\n",
       "      <td>Sugar Land, TX</td>\n",
       "      <td>77498</td>\n",
       "      <td>77</td>\n",
       "      <td>61</td>\n",
       "      <td>69.0</td>\n",
       "      <td>0 in</td>\n",
       "    </tr>\n",
       "    <tr>\n",
       "      <th>14</th>\n",
       "      <td>March 15, 2019</td>\n",
       "      <td>Sugar Land, TX</td>\n",
       "      <td>77498</td>\n",
       "      <td>64</td>\n",
       "      <td>53</td>\n",
       "      <td>58.5</td>\n",
       "      <td>0 in</td>\n",
       "    </tr>\n",
       "    <tr>\n",
       "      <th>15</th>\n",
       "      <td>March 16, 2019</td>\n",
       "      <td>Sugar Land, TX</td>\n",
       "      <td>77498</td>\n",
       "      <td>62</td>\n",
       "      <td>53</td>\n",
       "      <td>57.5</td>\n",
       "      <td>0 in</td>\n",
       "    </tr>\n",
       "    <tr>\n",
       "      <th>16</th>\n",
       "      <td>March 17, 2019</td>\n",
       "      <td>Sugar Land, TX</td>\n",
       "      <td>77498</td>\n",
       "      <td>66</td>\n",
       "      <td>50</td>\n",
       "      <td>58.0</td>\n",
       "      <td>0 in</td>\n",
       "    </tr>\n",
       "    <tr>\n",
       "      <th>17</th>\n",
       "      <td>March 18, 2019</td>\n",
       "      <td>Sugar Land, TX</td>\n",
       "      <td>77498</td>\n",
       "      <td>70</td>\n",
       "      <td>46</td>\n",
       "      <td>58.0</td>\n",
       "      <td>0 in</td>\n",
       "    </tr>\n",
       "  </tbody>\n",
       "</table>\n",
       "</div>"
      ],
      "text/plain": [
       "              Date         Location Zip code Temperature High Temperature Low  \\\n",
       "0    March 1, 2019  Sugar Land, TX     77498               66              47   \n",
       "1    March 2, 2019  Sugar Land, TX     77498               76              59   \n",
       "2    March 3, 2019  Sugar Land, TX     77498               67              44   \n",
       "3    March 4, 2019  Sugar Land, TX     77498               44              36   \n",
       "4    March 5, 2019  Sugar Land, TX     77498               50              31   \n",
       "5    March 6, 2019  Sugar Land, TX     77498               60              36   \n",
       "6    March 7, 2019  Sugar Land, TX     77498               73              54   \n",
       "7    March 8, 2019  Sugar Land, TX     77498               82              68   \n",
       "8    March 9, 2019  Sugar Land, TX     77498               82              69   \n",
       "9   March 10, 2019  Sugar Land, TX     77498               81              69   \n",
       "10  March 11, 2019  Sugar Land, TX     77498               83              71   \n",
       "11  March 12, 2019  Sugar Land, TX     77498               76              66   \n",
       "12  March 13, 2019  Sugar Land, TX     77498               76              71   \n",
       "13  March 14, 2019  Sugar Land, TX     77498               77              61   \n",
       "14  March 15, 2019  Sugar Land, TX     77498               64              53   \n",
       "15  March 16, 2019  Sugar Land, TX     77498               62              53   \n",
       "16  March 17, 2019  Sugar Land, TX     77498               66              50   \n",
       "17  March 18, 2019  Sugar Land, TX     77498               70              46   \n",
       "\n",
       "    Average Temperature Precipitation  \n",
       "0                  56.5          0 in  \n",
       "1                  67.5          0 in  \n",
       "2                  55.5          0 in  \n",
       "3                  40.0          0 in  \n",
       "4                  40.5          0 in  \n",
       "5                  48.0          0 in  \n",
       "6                  63.5          0 in  \n",
       "7                  75.0          0 in  \n",
       "8                  75.5          0 in  \n",
       "9                  75.0          0 in  \n",
       "10                 77.0          0 in  \n",
       "11                 71.0          0 in  \n",
       "12                 73.5          0 in  \n",
       "13                 69.0          0 in  \n",
       "14                 58.5          0 in  \n",
       "15                 57.5          0 in  \n",
       "16                 58.0          0 in  \n",
       "17                 58.0          0 in  "
      ]
     },
     "metadata": {},
     "output_type": "display_data"
    }
   ],
   "source": [
    "display(data_frame)"
   ]
  },
  {
   "cell_type": "markdown",
   "metadata": {},
   "source": [
    "# Export Table to a .CSV File"
   ]
  },
  {
   "cell_type": "code",
   "execution_count": 14,
   "metadata": {},
   "outputs": [],
   "source": [
    "data_frame.to_csv('Weather_Data_Output.csv', index=False, encoding='utf-8')"
   ]
  },
  {
   "cell_type": "markdown",
   "metadata": {},
   "source": [
    "# Bonus Task"
   ]
  },
  {
   "cell_type": "markdown",
   "metadata": {},
   "source": [
    "- Find forcasted High and Low Temperatures for future 5-day forecast"
   ]
  },
  {
   "cell_type": "markdown",
   "metadata": {},
   "source": [
    "- Find 5 Days of forecast"
   ]
  },
  {
   "cell_type": "code",
   "execution_count": 15,
   "metadata": {
    "scrolled": true
   },
   "outputs": [
    {
     "name": "stdout",
     "output_type": "stream",
     "text": [
      "20\n"
     ]
    }
   ],
   "source": [
    "#Future Day, Weather.com doesn't offer 'forecasts' for current day, only real-time weather tracking\n",
    "results4 = soup.find_all('div', attrs={'class':'dayCell opaque'})\n",
    "\n",
    "#Start with March, 19th, 2019\n",
    "future_day = results4[-1]\n",
    "future_day = int(future_day.find('div').text)\n",
    "print(future_day + 2)"
   ]
  },
  {
   "cell_type": "markdown",
   "metadata": {},
   "source": [
    "- Find 5 forecasted high temperatures"
   ]
  },
  {
   "cell_type": "code",
   "execution_count": 16,
   "metadata": {},
   "outputs": [
    {
     "name": "stdout",
     "output_type": "stream",
     "text": [
      "73\n"
     ]
    }
   ],
   "source": [
    "#Future Hi Temp\n",
    "#in multiples of 2\n",
    "results5 = soup.find_all('span', attrs={'class':''})\n",
    "results5 = results5[80].text[0:2]\n",
    "\n",
    "print(results5)"
   ]
  },
  {
   "cell_type": "markdown",
   "metadata": {},
   "source": [
    "- Find 5 forecasted low temperatures"
   ]
  },
  {
   "cell_type": "code",
   "execution_count": 17,
   "metadata": {},
   "outputs": [
    {
     "name": "stdout",
     "output_type": "stream",
     "text": [
      "50\n"
     ]
    }
   ],
   "source": [
    "#Future Low Temp\n",
    "#in multiples of 1\n",
    "results6 = soup.find_all('span', attrs={'class':''})\n",
    "results6 = results6[81].text[0:2]\n",
    "\n",
    "print(results6)"
   ]
  },
  {
   "cell_type": "markdown",
   "metadata": {},
   "source": [
    "# Store Findings in a Data Set"
   ]
  },
  {
   "cell_type": "code",
   "execution_count": 71,
   "metadata": {},
   "outputs": [],
   "source": [
    "a = 81\n",
    "b = 80\n",
    "c = 2\n",
    "\n",
    "array2 = []\n",
    "\n",
    "for i in range (5, 10):\n",
    "    \n",
    "    #Future Day, Weather.com doesn't offer 'forecasts' for current day, only real-time weather tracking\n",
    "    results4 = soup.find_all('div', attrs={'class':'dayCell opaque'})\n",
    "\n",
    "    #5 Day prediction - 5 day forecast days\n",
    "    future_day = results4[-1]\n",
    "    future_day = int(future_day.find('div').text)\n",
    "    future_day = future_day + c\n",
    "    future_day = str(future_day)\n",
    "    date = (month+' '+future_day+','+year)\n",
    "    c = c+1\n",
    "    \n",
    "    #Future Hi Temp\n",
    "    #Stored in Weather.com as multiples of 2\n",
    "    results5 = soup.find_all('span', attrs={'class':''})\n",
    "    results5 = results5[b].text[0:2]\n",
    "    future_temp_hi = results5\n",
    "    b = b + (i - (i-2))\n",
    "        \n",
    "    #Future Low Temp\n",
    "    #Stored in Weather.com as multiples of 1\n",
    "    results6 = soup.find_all('span', attrs={'class':''})\n",
    "    results6 = results6[a].text[0:2]\n",
    "    future_temp_low = results6\n",
    "    a = a + ( i - (i-2) )\n",
    "    \n",
    "    #Add the Date, Location, Zip Code, Forecasted High Temp, Forecasted Low Temp to the array\n",
    "    array2.append((date, location, zip_code, future_temp_hi,future_temp_low))"
   ]
  },
  {
   "cell_type": "markdown",
   "metadata": {},
   "source": [
    "# Apply Table to Data using Pandas"
   ]
  },
  {
   "cell_type": "code",
   "execution_count": 72,
   "metadata": {},
   "outputs": [],
   "source": [
    "import pandas as pd\n",
    "data_frame2 = pd.DataFrame(array2, columns=['Date', 'Location', 'Zip code','Forecasted High Temperature', 'Forecasted Low Temperature'])"
   ]
  },
  {
   "cell_type": "code",
   "execution_count": 73,
   "metadata": {},
   "outputs": [
    {
     "data": {
      "text/html": [
       "<div>\n",
       "<style scoped>\n",
       "    .dataframe tbody tr th:only-of-type {\n",
       "        vertical-align: middle;\n",
       "    }\n",
       "\n",
       "    .dataframe tbody tr th {\n",
       "        vertical-align: top;\n",
       "    }\n",
       "\n",
       "    .dataframe thead th {\n",
       "        text-align: right;\n",
       "    }\n",
       "</style>\n",
       "<table border=\"1\" class=\"dataframe\">\n",
       "  <thead>\n",
       "    <tr style=\"text-align: right;\">\n",
       "      <th></th>\n",
       "      <th>Date</th>\n",
       "      <th>Location</th>\n",
       "      <th>Zip code</th>\n",
       "      <th>Temperature High</th>\n",
       "      <th>Temperature Low</th>\n",
       "      <th>Average Temperature</th>\n",
       "      <th>Precipitation</th>\n",
       "      <th>Forecasted High Temperature</th>\n",
       "      <th>Forecasted Low Temperature</th>\n",
       "    </tr>\n",
       "  </thead>\n",
       "  <tbody>\n",
       "    <tr>\n",
       "      <th>0</th>\n",
       "      <td>March 1, 2019</td>\n",
       "      <td>Sugar Land, TX</td>\n",
       "      <td>77498</td>\n",
       "      <td>66</td>\n",
       "      <td>47</td>\n",
       "      <td>56.5</td>\n",
       "      <td>0 in</td>\n",
       "      <td>NaN</td>\n",
       "      <td>NaN</td>\n",
       "    </tr>\n",
       "    <tr>\n",
       "      <th>1</th>\n",
       "      <td>March 2, 2019</td>\n",
       "      <td>Sugar Land, TX</td>\n",
       "      <td>77498</td>\n",
       "      <td>76</td>\n",
       "      <td>59</td>\n",
       "      <td>67.5</td>\n",
       "      <td>0 in</td>\n",
       "      <td>NaN</td>\n",
       "      <td>NaN</td>\n",
       "    </tr>\n",
       "    <tr>\n",
       "      <th>2</th>\n",
       "      <td>March 3, 2019</td>\n",
       "      <td>Sugar Land, TX</td>\n",
       "      <td>77498</td>\n",
       "      <td>67</td>\n",
       "      <td>44</td>\n",
       "      <td>55.5</td>\n",
       "      <td>0 in</td>\n",
       "      <td>NaN</td>\n",
       "      <td>NaN</td>\n",
       "    </tr>\n",
       "    <tr>\n",
       "      <th>3</th>\n",
       "      <td>March 4, 2019</td>\n",
       "      <td>Sugar Land, TX</td>\n",
       "      <td>77498</td>\n",
       "      <td>44</td>\n",
       "      <td>36</td>\n",
       "      <td>40.0</td>\n",
       "      <td>0 in</td>\n",
       "      <td>NaN</td>\n",
       "      <td>NaN</td>\n",
       "    </tr>\n",
       "    <tr>\n",
       "      <th>4</th>\n",
       "      <td>March 5, 2019</td>\n",
       "      <td>Sugar Land, TX</td>\n",
       "      <td>77498</td>\n",
       "      <td>50</td>\n",
       "      <td>31</td>\n",
       "      <td>40.5</td>\n",
       "      <td>0 in</td>\n",
       "      <td>NaN</td>\n",
       "      <td>NaN</td>\n",
       "    </tr>\n",
       "    <tr>\n",
       "      <th>5</th>\n",
       "      <td>March 6, 2019</td>\n",
       "      <td>Sugar Land, TX</td>\n",
       "      <td>77498</td>\n",
       "      <td>60</td>\n",
       "      <td>36</td>\n",
       "      <td>48.0</td>\n",
       "      <td>0 in</td>\n",
       "      <td>NaN</td>\n",
       "      <td>NaN</td>\n",
       "    </tr>\n",
       "    <tr>\n",
       "      <th>6</th>\n",
       "      <td>March 7, 2019</td>\n",
       "      <td>Sugar Land, TX</td>\n",
       "      <td>77498</td>\n",
       "      <td>73</td>\n",
       "      <td>54</td>\n",
       "      <td>63.5</td>\n",
       "      <td>0 in</td>\n",
       "      <td>NaN</td>\n",
       "      <td>NaN</td>\n",
       "    </tr>\n",
       "    <tr>\n",
       "      <th>7</th>\n",
       "      <td>March 8, 2019</td>\n",
       "      <td>Sugar Land, TX</td>\n",
       "      <td>77498</td>\n",
       "      <td>82</td>\n",
       "      <td>68</td>\n",
       "      <td>75.0</td>\n",
       "      <td>0 in</td>\n",
       "      <td>NaN</td>\n",
       "      <td>NaN</td>\n",
       "    </tr>\n",
       "    <tr>\n",
       "      <th>8</th>\n",
       "      <td>March 9, 2019</td>\n",
       "      <td>Sugar Land, TX</td>\n",
       "      <td>77498</td>\n",
       "      <td>82</td>\n",
       "      <td>69</td>\n",
       "      <td>75.5</td>\n",
       "      <td>0 in</td>\n",
       "      <td>NaN</td>\n",
       "      <td>NaN</td>\n",
       "    </tr>\n",
       "    <tr>\n",
       "      <th>9</th>\n",
       "      <td>March 10, 2019</td>\n",
       "      <td>Sugar Land, TX</td>\n",
       "      <td>77498</td>\n",
       "      <td>81</td>\n",
       "      <td>69</td>\n",
       "      <td>75.0</td>\n",
       "      <td>0 in</td>\n",
       "      <td>NaN</td>\n",
       "      <td>NaN</td>\n",
       "    </tr>\n",
       "    <tr>\n",
       "      <th>10</th>\n",
       "      <td>March 11, 2019</td>\n",
       "      <td>Sugar Land, TX</td>\n",
       "      <td>77498</td>\n",
       "      <td>83</td>\n",
       "      <td>71</td>\n",
       "      <td>77.0</td>\n",
       "      <td>0 in</td>\n",
       "      <td>NaN</td>\n",
       "      <td>NaN</td>\n",
       "    </tr>\n",
       "    <tr>\n",
       "      <th>11</th>\n",
       "      <td>March 12, 2019</td>\n",
       "      <td>Sugar Land, TX</td>\n",
       "      <td>77498</td>\n",
       "      <td>76</td>\n",
       "      <td>66</td>\n",
       "      <td>71.0</td>\n",
       "      <td>0 in</td>\n",
       "      <td>NaN</td>\n",
       "      <td>NaN</td>\n",
       "    </tr>\n",
       "    <tr>\n",
       "      <th>12</th>\n",
       "      <td>March 13, 2019</td>\n",
       "      <td>Sugar Land, TX</td>\n",
       "      <td>77498</td>\n",
       "      <td>76</td>\n",
       "      <td>71</td>\n",
       "      <td>73.5</td>\n",
       "      <td>0 in</td>\n",
       "      <td>NaN</td>\n",
       "      <td>NaN</td>\n",
       "    </tr>\n",
       "    <tr>\n",
       "      <th>13</th>\n",
       "      <td>March 14, 2019</td>\n",
       "      <td>Sugar Land, TX</td>\n",
       "      <td>77498</td>\n",
       "      <td>77</td>\n",
       "      <td>61</td>\n",
       "      <td>69.0</td>\n",
       "      <td>0 in</td>\n",
       "      <td>NaN</td>\n",
       "      <td>NaN</td>\n",
       "    </tr>\n",
       "    <tr>\n",
       "      <th>14</th>\n",
       "      <td>March 15, 2019</td>\n",
       "      <td>Sugar Land, TX</td>\n",
       "      <td>77498</td>\n",
       "      <td>64</td>\n",
       "      <td>53</td>\n",
       "      <td>58.5</td>\n",
       "      <td>0 in</td>\n",
       "      <td>NaN</td>\n",
       "      <td>NaN</td>\n",
       "    </tr>\n",
       "    <tr>\n",
       "      <th>15</th>\n",
       "      <td>March 16, 2019</td>\n",
       "      <td>Sugar Land, TX</td>\n",
       "      <td>77498</td>\n",
       "      <td>62</td>\n",
       "      <td>53</td>\n",
       "      <td>57.5</td>\n",
       "      <td>0 in</td>\n",
       "      <td>NaN</td>\n",
       "      <td>NaN</td>\n",
       "    </tr>\n",
       "    <tr>\n",
       "      <th>16</th>\n",
       "      <td>March 17, 2019</td>\n",
       "      <td>Sugar Land, TX</td>\n",
       "      <td>77498</td>\n",
       "      <td>66</td>\n",
       "      <td>50</td>\n",
       "      <td>58.0</td>\n",
       "      <td>0 in</td>\n",
       "      <td>NaN</td>\n",
       "      <td>NaN</td>\n",
       "    </tr>\n",
       "    <tr>\n",
       "      <th>17</th>\n",
       "      <td>March 18, 2019</td>\n",
       "      <td>Sugar Land, TX</td>\n",
       "      <td>77498</td>\n",
       "      <td>70</td>\n",
       "      <td>46</td>\n",
       "      <td>58.0</td>\n",
       "      <td>0 in</td>\n",
       "      <td>NaN</td>\n",
       "      <td>NaN</td>\n",
       "    </tr>\n",
       "    <tr>\n",
       "      <th>0</th>\n",
       "      <td>March 20, 2019</td>\n",
       "      <td>Sugar Land, TX</td>\n",
       "      <td>77498</td>\n",
       "      <td>NaN</td>\n",
       "      <td>NaN</td>\n",
       "      <td>NaN</td>\n",
       "      <td>NaN</td>\n",
       "      <td>73</td>\n",
       "      <td>50</td>\n",
       "    </tr>\n",
       "    <tr>\n",
       "      <th>1</th>\n",
       "      <td>March 21, 2019</td>\n",
       "      <td>Sugar Land, TX</td>\n",
       "      <td>77498</td>\n",
       "      <td>NaN</td>\n",
       "      <td>NaN</td>\n",
       "      <td>NaN</td>\n",
       "      <td>NaN</td>\n",
       "      <td>74</td>\n",
       "      <td>51</td>\n",
       "    </tr>\n",
       "    <tr>\n",
       "      <th>2</th>\n",
       "      <td>March 22, 2019</td>\n",
       "      <td>Sugar Land, TX</td>\n",
       "      <td>77498</td>\n",
       "      <td>NaN</td>\n",
       "      <td>NaN</td>\n",
       "      <td>NaN</td>\n",
       "      <td>NaN</td>\n",
       "      <td>73</td>\n",
       "      <td>48</td>\n",
       "    </tr>\n",
       "    <tr>\n",
       "      <th>3</th>\n",
       "      <td>March 23, 2019</td>\n",
       "      <td>Sugar Land, TX</td>\n",
       "      <td>77498</td>\n",
       "      <td>NaN</td>\n",
       "      <td>NaN</td>\n",
       "      <td>NaN</td>\n",
       "      <td>NaN</td>\n",
       "      <td>74</td>\n",
       "      <td>57</td>\n",
       "    </tr>\n",
       "    <tr>\n",
       "      <th>4</th>\n",
       "      <td>March 24, 2019</td>\n",
       "      <td>Sugar Land, TX</td>\n",
       "      <td>77498</td>\n",
       "      <td>NaN</td>\n",
       "      <td>NaN</td>\n",
       "      <td>NaN</td>\n",
       "      <td>NaN</td>\n",
       "      <td>72</td>\n",
       "      <td>61</td>\n",
       "    </tr>\n",
       "  </tbody>\n",
       "</table>\n",
       "</div>"
      ],
      "text/plain": [
       "              Date         Location Zip code Temperature High Temperature Low  \\\n",
       "0    March 1, 2019  Sugar Land, TX     77498               66              47   \n",
       "1    March 2, 2019  Sugar Land, TX     77498               76              59   \n",
       "2    March 3, 2019  Sugar Land, TX     77498               67              44   \n",
       "3    March 4, 2019  Sugar Land, TX     77498               44              36   \n",
       "4    March 5, 2019  Sugar Land, TX     77498               50              31   \n",
       "5    March 6, 2019  Sugar Land, TX     77498               60              36   \n",
       "6    March 7, 2019  Sugar Land, TX     77498               73              54   \n",
       "7    March 8, 2019  Sugar Land, TX     77498               82              68   \n",
       "8    March 9, 2019  Sugar Land, TX     77498               82              69   \n",
       "9   March 10, 2019  Sugar Land, TX     77498               81              69   \n",
       "10  March 11, 2019  Sugar Land, TX     77498               83              71   \n",
       "11  March 12, 2019  Sugar Land, TX     77498               76              66   \n",
       "12  March 13, 2019  Sugar Land, TX     77498               76              71   \n",
       "13  March 14, 2019  Sugar Land, TX     77498               77              61   \n",
       "14  March 15, 2019  Sugar Land, TX     77498               64              53   \n",
       "15  March 16, 2019  Sugar Land, TX     77498               62              53   \n",
       "16  March 17, 2019  Sugar Land, TX     77498               66              50   \n",
       "17  March 18, 2019  Sugar Land, TX     77498               70              46   \n",
       "0   March 20, 2019  Sugar Land, TX     77498              NaN             NaN   \n",
       "1   March 21, 2019  Sugar Land, TX     77498              NaN             NaN   \n",
       "2   March 22, 2019  Sugar Land, TX     77498              NaN             NaN   \n",
       "3   March 23, 2019  Sugar Land, TX     77498              NaN             NaN   \n",
       "4   March 24, 2019  Sugar Land, TX     77498              NaN             NaN   \n",
       "\n",
       "    Average Temperature Precipitation Forecasted High Temperature  \\\n",
       "0                  56.5          0 in                         NaN   \n",
       "1                  67.5          0 in                         NaN   \n",
       "2                  55.5          0 in                         NaN   \n",
       "3                  40.0          0 in                         NaN   \n",
       "4                  40.5          0 in                         NaN   \n",
       "5                  48.0          0 in                         NaN   \n",
       "6                  63.5          0 in                         NaN   \n",
       "7                  75.0          0 in                         NaN   \n",
       "8                  75.5          0 in                         NaN   \n",
       "9                  75.0          0 in                         NaN   \n",
       "10                 77.0          0 in                         NaN   \n",
       "11                 71.0          0 in                         NaN   \n",
       "12                 73.5          0 in                         NaN   \n",
       "13                 69.0          0 in                         NaN   \n",
       "14                 58.5          0 in                         NaN   \n",
       "15                 57.5          0 in                         NaN   \n",
       "16                 58.0          0 in                         NaN   \n",
       "17                 58.0          0 in                         NaN   \n",
       "0                   NaN           NaN                          73   \n",
       "1                   NaN           NaN                          74   \n",
       "2                   NaN           NaN                          73   \n",
       "3                   NaN           NaN                          74   \n",
       "4                   NaN           NaN                          72   \n",
       "\n",
       "   Forecasted Low Temperature  \n",
       "0                         NaN  \n",
       "1                         NaN  \n",
       "2                         NaN  \n",
       "3                         NaN  \n",
       "4                         NaN  \n",
       "5                         NaN  \n",
       "6                         NaN  \n",
       "7                         NaN  \n",
       "8                         NaN  \n",
       "9                         NaN  \n",
       "10                        NaN  \n",
       "11                        NaN  \n",
       "12                        NaN  \n",
       "13                        NaN  \n",
       "14                        NaN  \n",
       "15                        NaN  \n",
       "16                        NaN  \n",
       "17                        NaN  \n",
       "0                          50  \n",
       "1                          51  \n",
       "2                          48  \n",
       "3                          57  \n",
       "4                          61  "
      ]
     },
     "metadata": {},
     "output_type": "display_data"
    }
   ],
   "source": [
    "#Concatenate both Data Frames into one Data Frame \n",
    "frames = [data_frame, data_frame2]\n",
    "Fresult = pd.concat(frames,sort=False)\n",
    "#Display the new Data Frame\n",
    "display(Fresult)"
   ]
  },
  {
   "cell_type": "code",
   "execution_count": 74,
   "metadata": {},
   "outputs": [],
   "source": [
    "Fresult.to_csv('Weather_Data_Output.csv', index=False, encoding='utf-8')"
   ]
  }
 ],
 "metadata": {
  "kernelspec": {
   "display_name": "Python 3",
   "language": "python",
   "name": "python3"
  },
  "language_info": {
   "codemirror_mode": {
    "name": "ipython",
    "version": 3
   },
   "file_extension": ".py",
   "mimetype": "text/x-python",
   "name": "python",
   "nbconvert_exporter": "python",
   "pygments_lexer": "ipython3",
   "version": "3.7.1"
  }
 },
 "nbformat": 4,
 "nbformat_minor": 2
}
